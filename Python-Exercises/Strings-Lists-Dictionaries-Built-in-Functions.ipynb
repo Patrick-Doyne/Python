{
 "cells": [
  {
   "cell_type": "markdown",
   "metadata": {},
   "source": [
    "# Instructions:\n",
    "\n",
    "- This assignment primarily focuses on the basics of strings, lists, dictionaries, and built-in functions. \n",
    "- Make sure to run your code for each cell so that the output/result is visible underneath each code cell. \n",
    "- Do not create any new cells in this notebook file. Place your code under the comments in each cell.\n",
    "- Submit your Jupyter Notebook file (.ipynb) and the .pdf version of it to Blackboard. \n",
    "- Both files must be uploaded using one Blackboard submission (these are not to be submitted separately using two submissions). Please make sure that the PDF file shows the output of each code cell prior to submitting your files to the system. \n",
    "- Submissions without the PDF file as instructed may result in a grade penalty."
   ]
  },
  {
   "cell_type": "code",
   "execution_count": 1,
   "metadata": {},
   "outputs": [
    {
     "data": {
      "text/plain": [
       "'C:\\\\Users\\\\Patrick Doyne\\\\Downloads'"
      ]
     },
     "execution_count": 1,
     "metadata": {},
     "output_type": "execute_result"
    }
   ],
   "source": [
    "\"\"\" Before you begin, run this cell with with the code provided below.\n",
    "This will return (output) where your Jupyter Notebook file is located on your computer. \n",
    "\"\"\"\n",
    "\n",
    "import os\n",
    "os.getcwd()"
   ]
  },
  {
   "cell_type": "markdown",
   "metadata": {},
   "source": [
    "## Part 1 - Numbers"
   ]
  },
  {
   "cell_type": "code",
   "execution_count": 2,
   "metadata": {},
   "outputs": [
    {
     "name": "stdout",
     "output_type": "stream",
     "text": [
      "1\n"
     ]
    }
   ],
   "source": [
    "#1. Assign any integer value to my_int and run the cell display the output from my_int. \n",
    "\n",
    "my_int = 1  #replace the --- symbol with an appropriate value \n",
    "print(my_int)"
   ]
  },
  {
   "cell_type": "code",
   "execution_count": 3,
   "metadata": {},
   "outputs": [
    {
     "name": "stdout",
     "output_type": "stream",
     "text": [
      "1.1\n"
     ]
    }
   ],
   "source": [
    "#2. Assign any float value to my_float and run the cell display the output from my_float. \n",
    "\n",
    "my_float = 1.1 #replace the --- symbol with an appropriate value\n",
    "print(my_float) #replace the --- symbol with the appropriate variable"
   ]
  },
  {
   "cell_type": "code",
   "execution_count": 4,
   "metadata": {},
   "outputs": [
    {
     "name": "stdout",
     "output_type": "stream",
     "text": [
      "Total: 2.1\n"
     ]
    }
   ],
   "source": [
    "#3. Run the cell to view the output below.\n",
    "\n",
    "print(\"Total:\", my_int + my_float)"
   ]
  },
  {
   "cell_type": "markdown",
   "metadata": {},
   "source": [
    "## Part 2 - Strings"
   ]
  },
  {
   "cell_type": "code",
   "execution_count": 5,
   "metadata": {
    "scrolled": true
   },
   "outputs": [
    {
     "name": "stdout",
     "output_type": "stream",
     "text": [
      "Patrick Doyne\n"
     ]
    }
   ],
   "source": [
    "#1. Include your first name and last name as a string inside a print function.\n",
    "print(\"Patrick Doyne\")"
   ]
  },
  {
   "cell_type": "code",
   "execution_count": 6,
   "metadata": {
    "scrolled": true
   },
   "outputs": [
    {
     "name": "stdout",
     "output_type": "stream",
     "text": [
      "Patrick Doyne\n"
     ]
    }
   ],
   "source": [
    "\"\"\"#2. Assign your first name and last name as string values using the predefined variables below. \n",
    "Include each variable as an argument in one print function to display your full name (e.g., print(var1, var2)).\n",
    "\"\"\"\n",
    "\n",
    "firstName = \"Patrick\" #replace the --- symbol with an appropriate value\n",
    "lastName =  \"Doyne\" #replace the --- symbol with an appropriate value\n",
    "print(firstName, lastName) #replace the --- symbol with the appropriate variables"
   ]
  },
  {
   "cell_type": "code",
   "execution_count": 7,
   "metadata": {
    "scrolled": true
   },
   "outputs": [
    {
     "name": "stdout",
     "output_type": "stream",
     "text": [
      "Patrick Doyne\n"
     ]
    }
   ],
   "source": [
    "\"\"\"#3. Use the print function and include the first name variable and \n",
    "concatenate (+ symbol) it with the last name variable.\n",
    "Note: A space (i.e., \" \") between the two first name and last name will be needed.\n",
    "\"\"\"\n",
    "print(firstName+\" \"+lastName)"
   ]
  },
  {
   "cell_type": "code",
   "execution_count": 8,
   "metadata": {
    "scrolled": false
   },
   "outputs": [
    {
     "name": "stdout",
     "output_type": "stream",
     "text": [
      "5\n"
     ]
    }
   ],
   "source": [
    "\"\"\"#4. Create a variable named courses and assign it an integer value which represents the \n",
    "number of courses you are taking this semester. \n",
    "Then use the print function to display the variable's content.\n",
    "\"\"\"\n",
    "courses = 5\n",
    "print(courses)"
   ]
  },
  {
   "cell_type": "code",
   "execution_count": 9,
   "metadata": {},
   "outputs": [
    {
     "name": "stdout",
     "output_type": "stream",
     "text": [
      "5.0\n"
     ]
    }
   ],
   "source": [
    "#5 Convert the value type in courses to a float using the float() function.\n",
    "# Then use the print function to display the variable's content.\n",
    "courses = float(courses)\n",
    "print(courses)"
   ]
  },
  {
   "cell_type": "code",
   "execution_count": 10,
   "metadata": {
    "scrolled": true
   },
   "outputs": [
    {
     "data": {
      "text/plain": [
       "float"
      ]
     },
     "execution_count": 10,
     "metadata": {},
     "output_type": "execute_result"
    }
   ],
   "source": [
    "#6. Use the type() function to display the data type for the courses variable. \n",
    "type(courses)"
   ]
  },
  {
   "cell_type": "code",
   "execution_count": 13,
   "metadata": {
    "scrolled": true
   },
   "outputs": [
    {
     "name": "stdout",
     "output_type": "stream",
     "text": [
      "Hello! My name is Patrick Doyne! I'm taking 5.0 courses.\n"
     ]
    }
   ],
   "source": [
    "\"\"\"#7. Use a print function to output: Hello! My name is ____! I'm taking ____ courses. \n",
    "Your code must fill in the blanks by referring to the existing variables previously defined.\n",
    "\"\"\"\n",
    "print(\"Hello! My name is\",firstName,lastName+\"! I'm taking \"+str(courses),\"courses.\")"
   ]
  },
  {
   "cell_type": "markdown",
   "metadata": {},
   "source": [
    "## Part 3 - Lists"
   ]
  },
  {
   "cell_type": "code",
   "execution_count": 14,
   "metadata": {
    "scrolled": true
   },
   "outputs": [
    {
     "name": "stdout",
     "output_type": "stream",
     "text": [
      "[1, 2, 3, 4]\n"
     ]
    }
   ],
   "source": [
    "\"\"\"#1. Create a variable named my_list that contains a list of any four \n",
    "numbers that range between 0 and 50.Then output the variable values using \n",
    "the print function.\"\"\"\n",
    "my_list = [1,2,3,4]\n",
    "print(my_list)"
   ]
  },
  {
   "cell_type": "code",
   "execution_count": 15,
   "metadata": {
    "scrolled": true
   },
   "outputs": [
    {
     "name": "stdout",
     "output_type": "stream",
     "text": [
      "[1, 2, 3, 4, 5.0]\n"
     ]
    }
   ],
   "source": [
    "\"\"\"#2. Use the append() method on my_list to include an additional number (int or float value) to the list.\n",
    "Then output the variable values using the print function.\n",
    "\"\"\"\n",
    "my_list.append(5.0)\n",
    "print(my_list)"
   ]
  },
  {
   "cell_type": "code",
   "execution_count": 18,
   "metadata": {
    "scrolled": true
   },
   "outputs": [
    {
     "data": {
      "text/plain": [
       "5"
      ]
     },
     "execution_count": 18,
     "metadata": {},
     "output_type": "execute_result"
    }
   ],
   "source": [
    "#3. Use the len() function on my_list to display the number of elements. \n",
    "len(my_list)"
   ]
  },
  {
   "cell_type": "code",
   "execution_count": 19,
   "metadata": {
    "scrolled": true
   },
   "outputs": [
    {
     "name": "stdout",
     "output_type": "stream",
     "text": [
      "[1, 2, 3, 4, 5.0]\n"
     ]
    }
   ],
   "source": [
    "#4. Use the sort() method to order the elements in my_list.\n",
    "# Then output the list using the print function.\n",
    "my_list.sort()\n",
    "print(my_list)"
   ]
  },
  {
   "cell_type": "code",
   "execution_count": 20,
   "metadata": {
    "scrolled": true
   },
   "outputs": [
    {
     "data": {
      "text/plain": [
       "5.0"
      ]
     },
     "execution_count": 20,
     "metadata": {},
     "output_type": "execute_result"
    }
   ],
   "source": [
    "#5. Use the max() function on my_list.\n",
    "max(my_list)"
   ]
  },
  {
   "cell_type": "code",
   "execution_count": 21,
   "metadata": {
    "scrolled": true
   },
   "outputs": [
    {
     "name": "stdout",
     "output_type": "stream",
     "text": [
      "2\n"
     ]
    }
   ],
   "source": [
    "#6. Find the 2nd element in my_list using indexing notation (square brackets []).\n",
    "# Then output the result using the print function.\n",
    "print(my_list[1])"
   ]
  },
  {
   "cell_type": "code",
   "execution_count": 22,
   "metadata": {
    "scrolled": true
   },
   "outputs": [
    {
     "name": "stdout",
     "output_type": "stream",
     "text": [
      "Sum of values: 15.0\n",
      "Number of values: 5\n",
      "3.0\n"
     ]
    }
   ],
   "source": [
    "#7. Use the len() and sum() functions to calculate the mean value in my_list. (mean = sum() / len())\n",
    "print(\"Sum of values:\", sum(my_list))\n",
    "print(\"Number of values:\", len(my_list))\n",
    "mean = sum(my_list) / len(my_list) #replace the --- symbol with the appropriate sytnax\n",
    "print(mean)"
   ]
  },
  {
   "cell_type": "markdown",
   "metadata": {},
   "source": [
    "## Part 4 - Dictionaries"
   ]
  },
  {
   "cell_type": "code",
   "execution_count": 23,
   "metadata": {},
   "outputs": [
    {
     "name": "stdout",
     "output_type": "stream",
     "text": [
      "{'firstName': 'Patrick', 'lastName': 'Doyne'}\n"
     ]
    }
   ],
   "source": [
    "#1. Complete the code below by entering values for each key with your first name and last name\n",
    "    \n",
    "my_dict = {\"firstName\": \"Patrick\", \"lastName\": \"Doyne\" }  # Remove the --- symbol and enter the string values \n",
    "print(my_dict)  # run cell to display my_dict"
   ]
  },
  {
   "cell_type": "code",
   "execution_count": 25,
   "metadata": {},
   "outputs": [
    {
     "name": "stdout",
     "output_type": "stream",
     "text": [
      "{'firstName': 'Patrick', 'lastName': 'Doyne', 'course': 'MIS 433'}\n"
     ]
    }
   ],
   "source": [
    "#2. Update the dictionary variable (my_dict) to include the key-value pair \"course\": \"MIS 433\".\n",
    "# Then output the content from the variable using the print function.\n",
    "my_dict[\"course\"] = \"MIS 433\"\n",
    "print(my_dict)"
   ]
  },
  {
   "cell_type": "markdown",
   "metadata": {},
   "source": [
    "## Part 5 - Fixing <font color='red'>Errors</font> - Debugging "
   ]
  },
  {
   "cell_type": "markdown",
   "metadata": {},
   "source": [
    "Below are code problems with errors to debug. <br>\n",
    "The error for each problem should disappear by running the cell after correcting the syntax. <br> \n",
    "Note: similiar errors are discussed in Chapter 1 from Automate the Boring Stuff textbook. \n"
   ]
  },
  {
   "cell_type": "code",
   "execution_count": 26,
   "metadata": {},
   "outputs": [
    {
     "name": "stdout",
     "output_type": "stream",
     "text": [
      "Programming for Analytics\n"
     ]
    }
   ],
   "source": [
    "#1. Fix the NameError. The code should return (or output) the content stored in the defined variable \n",
    "\n",
    "title = \"Programming for Analytics\"\n",
    "print(title)"
   ]
  },
  {
   "cell_type": "code",
   "execution_count": 27,
   "metadata": {},
   "outputs": [
    {
     "name": "stdout",
     "output_type": "stream",
     "text": [
      "3.0\n"
     ]
    }
   ],
   "source": [
    "#2. Fix the the SyntaxError. The code should return the content as a float value of 3.00 \n",
    "\n",
    "course_credit = 3.00\n",
    "print(course_credit)"
   ]
  },
  {
   "cell_type": "code",
   "execution_count": 28,
   "metadata": {},
   "outputs": [
    {
     "name": "stdout",
     "output_type": "stream",
     "text": [
      "MIS-433-DL\n"
     ]
    }
   ],
   "source": [
    "#3. Fix the TypeError. The code should return the content as MIS-433-DL\n",
    "\n",
    "course_category = \"MIS-\"\n",
    "course_number = 433\n",
    "course_modality = \"-DL\"\n",
    "\n",
    "print(course_category + str(course_number) + course_modality)"
   ]
  },
  {
   "cell_type": "markdown",
   "metadata": {},
   "source": [
    "\n",
    "###### End of Assignment"
   ]
  }
 ],
 "metadata": {
  "kernelspec": {
   "display_name": "Python 3 (ipykernel)",
   "language": "python",
   "name": "python3"
  },
  "language_info": {
   "codemirror_mode": {
    "name": "ipython",
    "version": 3
   },
   "file_extension": ".py",
   "mimetype": "text/x-python",
   "name": "python",
   "nbconvert_exporter": "python",
   "pygments_lexer": "ipython3",
   "version": "3.11.5"
  }
 },
 "nbformat": 4,
 "nbformat_minor": 2
}
