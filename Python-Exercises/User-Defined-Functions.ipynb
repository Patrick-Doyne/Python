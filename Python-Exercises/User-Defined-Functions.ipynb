{
 "cells": [
  {
   "cell_type": "code",
   "execution_count": 3,
   "id": "4fe11304",
   "metadata": {
    "scrolled": true
   },
   "outputs": [
    {
     "name": "stdout",
     "output_type": "stream",
     "text": [
      "Welcome, Patrick!\n"
     ]
    }
   ],
   "source": [
    "#Problem 1\n",
    "def Welcome(name):\n",
    "    print('Welcome, '+ name + '!' )\n",
    "    \n",
    "Welcome(\"Patrick\")"
   ]
  },
  {
   "cell_type": "code",
   "execution_count": 9,
   "id": "76dbe4e2",
   "metadata": {},
   "outputs": [
    {
     "name": "stdout",
     "output_type": "stream",
     "text": [
      "['pat', 'doyne', 'is', 'in', 'mis']\n"
     ]
    }
   ],
   "source": [
    "#Problem 2\n",
    "def toLowerCase(list):\n",
    "    for index, string in enumerate(list):\n",
    "        list[index]= string.lower()\n",
    "    return list\n",
    "spam = ['pAT', 'DoYnE', 'iS', 'IN', 'MIs']\n",
    "toLowerCase(spam)\n",
    "print(spam)\n",
    "        "
   ]
  },
  {
   "cell_type": "code",
   "execution_count": 26,
   "id": "8ddc2b20",
   "metadata": {},
   "outputs": [
    {
     "name": "stdout",
     "output_type": "stream",
     "text": [
      "Entered list values: [23, 45, 67, 8909, -1]\n",
      "Average Value: 1808.6\n",
      "Maximum Value: 8909\n",
      "Minimum Value: -1\n",
      "Range Value: 8910\n",
      "\n",
      "\n",
      "Entered list values: [23, 45, 67, 8909, -1]\n",
      "Average Value: 1808.6\n",
      "Maximum Value: 8909\n",
      "Minimum Value: -1\n",
      "Range Value: 8910\n"
     ]
    }
   ],
   "source": [
    "#Problem 3\n",
    "\n",
    "numbers = [23,45,67,8909,-1]\n",
    "\n",
    "def statistics(list):\n",
    "    \n",
    "    max =-9999\n",
    "    min = 9999\n",
    "    range = 0\n",
    "    total = 0\n",
    "    \n",
    "    for int in list:\n",
    "        if int > max:\n",
    "            max = int\n",
    "        if int < min:\n",
    "            min = int\n",
    "        range = max - min\n",
    "        total= total+int\n",
    "\n",
    "    print(\"Entered list values: \" + str(list))\n",
    "    print(\"Average Value: \" + str(total/len(list)))\n",
    "    print(\"Maximum Value: \" + str(max))\n",
    "    print(\"Minimum Value: \" + str(min))\n",
    "    print(\"Range Value: \" + str(max-min))\n",
    "\n",
    "statistics(numbers)\n",
    "\n",
    "#OR MORE SIMPLY\n",
    "print('\\n')\n",
    "\n",
    "def easyStatistics(list):\n",
    "    \n",
    "    print(\"Entered list values: \" + str(list))\n",
    "    print(\"Average Value: \" + str(sum(list)/len(list)))\n",
    "    print(\"Maximum Value: \" + str(max(list)))\n",
    "    print(\"Minimum Value: \" + str(min(list)))\n",
    "    print(\"Range Value: \" + str(max(list)-min(list)))\n",
    "\n",
    "easyStatistics(numbers)\n",
    "    "
   ]
  },
  {
   "cell_type": "code",
   "execution_count": 22,
   "id": "2ce9975f",
   "metadata": {},
   "outputs": [
    {
     "name": "stdout",
     "output_type": "stream",
     "text": [
      "50.9 degrees Fahrenheit is 10.5 in Celsius!\n"
     ]
    }
   ],
   "source": [
    "#Problem 4\n",
    "\n",
    "def convertCtoF(f):\n",
    "    c = 0.0\n",
    "    c = (f - 32) * (5 / 9)\n",
    "    return c\n",
    "print(str(50.9) + \" degrees Fahrenheit is \" + str(convertCtoF(50.9)) + \" in Celsius!\")\n"
   ]
  },
  {
   "cell_type": "code",
   "execution_count": 25,
   "id": "44c1abed",
   "metadata": {},
   "outputs": [
    {
     "name": "stdout",
     "output_type": "stream",
     "text": [
      "Systems Analysis and Design\n"
     ]
    }
   ],
   "source": [
    "#Problem 5\n",
    "\n",
    "def findCourse(course_number):\n",
    "    if(course_number == 433):\n",
    "        print(\"Programming for Analytics\")\n",
    "    elif(course_number == 310):\n",
    "        print(\"Database Management System\")\n",
    "    elif(course_number == 330):\n",
    "        print(\"Systems Analysis and Design\")\n",
    "    else:\n",
    "        print(\"COURSE NOT FOUND!\")\n",
    "        \n",
    "findCourse(330)"
   ]
  }
 ],
 "metadata": {
  "kernelspec": {
   "display_name": "Python 3 (ipykernel)",
   "language": "python",
   "name": "python3"
  },
  "language_info": {
   "codemirror_mode": {
    "name": "ipython",
    "version": 3
   },
   "file_extension": ".py",
   "mimetype": "text/x-python",
   "name": "python",
   "nbconvert_exporter": "python",
   "pygments_lexer": "ipython3",
   "version": "3.11.5"
  }
 },
 "nbformat": 4,
 "nbformat_minor": 5
}
