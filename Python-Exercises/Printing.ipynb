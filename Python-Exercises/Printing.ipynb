{
 "cells": [
  {
   "cell_type": "code",
   "execution_count": 3,
   "id": "57aa3231",
   "metadata": {},
   "outputs": [
    {
     "name": "stdout",
     "output_type": "stream",
     "text": [
      "Patrick\n",
      "Doyne\n"
     ]
    }
   ],
   "source": [
    "print(\"Patrick\")\n",
    "print(\"Doyne\")"
   ]
  },
  {
   "cell_type": "code",
   "execution_count": 4,
   "id": "a1336e56",
   "metadata": {},
   "outputs": [
    {
     "name": "stdout",
     "output_type": "stream",
     "text": [
      "Hello MIS 433!\n"
     ]
    }
   ],
   "source": [
    "\"\"\"\n",
    "Patrick\n",
    "Doyne\n",
    "\"\"\"\n",
    "print(\"Hello MIS 433!\")"
   ]
  },
  {
   "cell_type": "code",
   "execution_count": 5,
   "id": "4e7b3c90",
   "metadata": {
    "scrolled": true
   },
   "outputs": [
    {
     "name": "stdout",
     "output_type": "stream",
     "text": [
      "Help on built-in function print in module builtins:\n",
      "\n",
      "print(*args, sep=' ', end='\\n', file=None, flush=False)\n",
      "    Prints the values to a stream, or to sys.stdout by default.\n",
      "    \n",
      "    sep\n",
      "      string inserted between values, default a space.\n",
      "    end\n",
      "      string appended after the last value, default a newline.\n",
      "    file\n",
      "      a file-like object (stream); defaults to the current sys.stdout.\n",
      "    flush\n",
      "      whether to forcibly flush the stream.\n",
      "\n"
     ]
    }
   ],
   "source": [
    "#G01355212\n",
    "help(print)"
   ]
  },
  {
   "cell_type": "code",
   "execution_count": 10,
   "id": "c45e07d4",
   "metadata": {},
   "outputs": [
    {
     "name": "stdout",
     "output_type": "stream",
     "text": [
      "10\n",
      "10.01\n",
      "Patrick\n",
      "Hello!\n",
      "10\n"
     ]
    }
   ],
   "source": [
    " print(10)\n",
    " print(10.01)\n",
    " Student = [\"Patrick\", \"GMU\"]\n",
    " print(Student[0])\n",
    " print(\"Hello!\")\n",
    " print(4+3+3)"
   ]
  },
  {
   "cell_type": "code",
   "execution_count": null,
   "id": "4c6c2af3",
   "metadata": {},
   "outputs": [],
   "source": []
  }
 ],
 "metadata": {
  "kernelspec": {
   "display_name": "Python 3 (ipykernel)",
   "language": "python",
   "name": "python3"
  },
  "language_info": {
   "codemirror_mode": {
    "name": "ipython",
    "version": 3
   },
   "file_extension": ".py",
   "mimetype": "text/x-python",
   "name": "python",
   "nbconvert_exporter": "python",
   "pygments_lexer": "ipython3",
   "version": "3.11.5"
  }
 },
 "nbformat": 4,
 "nbformat_minor": 5
}
