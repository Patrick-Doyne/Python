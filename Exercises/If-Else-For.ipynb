{
 "cells": [
  {
   "cell_type": "code",
   "execution_count": 2,
   "id": "7228bea6",
   "metadata": {},
   "outputs": [
    {
     "name": "stdout",
     "output_type": "stream",
     "text": [
      "B\n",
      "['B']\n"
     ]
    }
   ],
   "source": [
    "#Problem A\n",
    "\n",
    "# Define a variable named grade with the integer value of 80\n",
    "grade = 80\n",
    "# Define an empty list variable named a\n",
    "a=[]\n",
    "# Define an empty list variable named b\n",
    "b=[]\n",
    "# Define an empty list variable named c\n",
    "c=[]\n",
    "# If the grade is greater than or equal to 90:\n",
    "if grade >= 90:\n",
    "#     Display the grade letter A\n",
    "    print(\"A\")\n",
    "#     Append the value to a\n",
    "    a.append(\"A\")\n",
    "# Else if the grade is greater than or equal to 80:\n",
    "elif grade >= 80:\n",
    "#     Display the grade letter B\n",
    "    print(\"B\")\n",
    "#     Append the value to b\n",
    "    b.append(\"B\")\n",
    "# Else:\n",
    "else:\n",
    "#     Display the grade letter C\n",
    "    print(\"C\")\n",
    "#     Append the value to c\n",
    "    c.append(\"C\")\n",
    "# Display the list variable b\n",
    "print(b)"
   ]
  },
  {
   "cell_type": "code",
   "execution_count": 5,
   "id": "faede16e",
   "metadata": {},
   "outputs": [
    {
     "name": "stdout",
     "output_type": "stream",
     "text": [
      "95\n",
      "180\n",
      "255\n",
      "320\n",
      "410\n",
      "82.0\n"
     ]
    }
   ],
   "source": [
    "# PROBLEM B: Display the sum of all the grades in the list as well as the \n",
    "# average grade without using the sum() function.\n",
    "\n",
    "\n",
    "# Define a variable named total and assign it the value 0\n",
    "total = 0\n",
    "# Define a list variable named grades with values [95, 85, 75, 65, 90]\n",
    "grades = [95,85,75,65,90]\n",
    "\n",
    "# For each grade in grades:\n",
    "for grade in grades:\n",
    "#     Add it to total\n",
    "    total+=grade\n",
    "# Display total (the value in the total variable)\n",
    "    print(total)\n",
    "# Display the average by dividing the total variable by the number of\n",
    "# elements in the grades list by using the len() function\n",
    "print(total/len(grades))"
   ]
  },
  {
   "cell_type": "code",
   "execution_count": 6,
   "id": "f2152d3e",
   "metadata": {},
   "outputs": [
    {
     "name": "stdout",
     "output_type": "stream",
     "text": [
      "10.5\n"
     ]
    }
   ],
   "source": [
    "\"\"\"PROBLEM C: Convert a Fahrenheit value to Celsius (From °F to °C) \n",
    "and display the converted value.\"\"\"\n",
    "\n",
    "# Define a variable representing Celsius, name it c, \n",
    "# and assign c a numerical value of 0.0\n",
    "c= 0.0\n",
    "# Define a variable representing Fahrenheit, name it f, and \n",
    "# assign f a numerical value of 50.9\n",
    "f = 50.9\n",
    "# Enter the formula c = (f - 32) * (5 / 9) to convert Fahrenheit \n",
    "# (f) to Celsius (c).\n",
    "c = (f - 32) * (5 / 9)\n",
    "# Display the temperature in Celsius\n",
    "print(c)\n",
    "#Note: Problem C should not have a for statement nor an if statement."
   ]
  },
  {
   "cell_type": "code",
   "execution_count": 8,
   "id": "84941983",
   "metadata": {},
   "outputs": [
    {
     "name": "stdout",
     "output_type": "stream",
     "text": [
      "[10.5, 37.5, 22.5]\n"
     ]
    }
   ],
   "source": [
    "# PROBLEM D: Convert a list of Fahrenheit values to Celisus and display \n",
    "# the list of converted values.\n",
    "\n",
    "# Define a variable representing Celsius, name it c, and assign it a numerical\n",
    "# value of 0.0\n",
    "c = 0.0\n",
    "# Define a list variable representing Fahrenheit, name it f, and assign \n",
    "# it [50.9, 99.5, 72.5]\n",
    "f = [50.9, 99.5, 72.5]\n",
    "# Define an empty list named converted\n",
    "converted = []\n",
    "# For each temperature value in f:\n",
    "for temperature in f:\n",
    "#     Convert it to Celsius using c = (temperature - 32) * (5 / 9)\n",
    "    c = (temperature - 32) * (5 / 9)\n",
    "#     Append the converted value to the converted list\n",
    "    converted.append(c)\n",
    "\n",
    "# Display the list of converted values from the converted list\n",
    "print(converted)"
   ]
  },
  {
   "cell_type": "code",
   "execution_count": null,
   "id": "beb84769",
   "metadata": {},
   "outputs": [],
   "source": []
  }
 ],
 "metadata": {
  "kernelspec": {
   "display_name": "Python 3 (ipykernel)",
   "language": "python",
   "name": "python3"
  },
  "language_info": {
   "codemirror_mode": {
    "name": "ipython",
    "version": 3
   },
   "file_extension": ".py",
   "mimetype": "text/x-python",
   "name": "python",
   "nbconvert_exporter": "python",
   "pygments_lexer": "ipython3",
   "version": "3.11.5"
  }
 },
 "nbformat": 4,
 "nbformat_minor": 5
}
