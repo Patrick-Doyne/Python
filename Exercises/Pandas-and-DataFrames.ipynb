{
 "cells": [
  {
   "cell_type": "code",
   "execution_count": 4,
   "id": "825df910",
   "metadata": {},
   "outputs": [],
   "source": [
    "import pandas as pd\n",
    "df = pd.read_csv(r\"C:\\Users\\Patrick Doyne\\Downloads\\covid19.csv\")"
   ]
  },
  {
   "cell_type": "code",
   "execution_count": 5,
   "id": "e8f7a747",
   "metadata": {},
   "outputs": [
    {
     "name": "stdout",
     "output_type": "stream",
     "text": [
      "      dateRep  day  month  year  cases  deaths countriesAndTerritories geoId  \\\n",
      "0  12/14/2020   14     12  2020    746       6             Afghanistan    AF   \n",
      "1  12/13/2020   13     12  2020    298       9             Afghanistan    AF   \n",
      "2  12/12/2020   12     12  2020    113      11             Afghanistan    AF   \n",
      "3  12/11/2020   11     12  2020     63      10             Afghanistan    AF   \n",
      "4  12/10/2020   10     12  2020    202      16             Afghanistan    AF   \n",
      "5   12/9/2020    9     12  2020    135      13             Afghanistan    AF   \n",
      "\n",
      "  countryterritoryCode  popData2019 continentExp  \n",
      "0                  AFG   38041757.0         Asia  \n",
      "1                  AFG   38041757.0         Asia  \n",
      "2                  AFG   38041757.0         Asia  \n",
      "3                  AFG   38041757.0         Asia  \n",
      "4                  AFG   38041757.0         Asia  \n",
      "5                  AFG   38041757.0         Asia  \n"
     ]
    }
   ],
   "source": [
    "print(df.head(n=6))"
   ]
  },
  {
   "cell_type": "code",
   "execution_count": 6,
   "id": "b69aa4ac",
   "metadata": {
    "scrolled": true
   },
   "outputs": [
    {
     "name": "stdout",
     "output_type": "stream",
     "text": [
      "(61900, 11)\n"
     ]
    }
   ],
   "source": [
    "print(df.shape)"
   ]
  },
  {
   "cell_type": "code",
   "execution_count": 7,
   "id": "5ef0e12f",
   "metadata": {
    "scrolled": true
   },
   "outputs": [
    {
     "name": "stdout",
     "output_type": "stream",
     "text": [
      "Index(['dateRep', 'day', 'month', 'year', 'cases', 'deaths',\n",
      "       'countriesAndTerritories', 'geoId', 'countryterritoryCode',\n",
      "       'popData2019', 'continentExp'],\n",
      "      dtype='object')\n"
     ]
    }
   ],
   "source": [
    "print(df.columns)"
   ]
  },
  {
   "cell_type": "code",
   "execution_count": 8,
   "id": "eed623ab",
   "metadata": {
    "scrolled": true
   },
   "outputs": [
    {
     "name": "stdout",
     "output_type": "stream",
     "text": [
      "dateRep                     object\n",
      "day                          int64\n",
      "month                        int64\n",
      "year                         int64\n",
      "cases                        int64\n",
      "deaths                       int64\n",
      "countriesAndTerritories     object\n",
      "geoId                       object\n",
      "countryterritoryCode        object\n",
      "popData2019                float64\n",
      "continentExp                object\n",
      "dtype: object\n"
     ]
    }
   ],
   "source": [
    "print(df.dtypes)"
   ]
  },
  {
   "cell_type": "code",
   "execution_count": 9,
   "id": "a7239188",
   "metadata": {
    "scrolled": true
   },
   "outputs": [
    {
     "name": "stdout",
     "output_type": "stream",
     "text": [
      "<class 'pandas.core.frame.DataFrame'>\n",
      "['Wallis_and_Futuna' 'Western_Sahara' 'Yemen' 'Zambia' 'Zimbabwe']\n"
     ]
    }
   ],
   "source": [
    "countries = df[\"countriesAndTerritories\"].unique()\n",
    "\n",
    "print(type(df.loc[:,[\"countriesAndTerritories\"]]))\n",
    "print(countries[-5:])"
   ]
  },
  {
   "cell_type": "code",
   "execution_count": 10,
   "id": "071ed5ef",
   "metadata": {},
   "outputs": [
    {
     "name": "stdout",
     "output_type": "stream",
     "text": [
      "          dateRep  day  month  year  cases  deaths   countriesAndTerritories  \\\n",
      "59346    1/4/2020    4      1  2020      0       0  United_States_of_America   \n",
      "59347    1/3/2020    3      1  2020      0       0  United_States_of_America   \n",
      "59348    1/2/2020    2      1  2020      0       0  United_States_of_America   \n",
      "59349    1/1/2020    1      1  2020      0       0  United_States_of_America   \n",
      "59350  12/31/2019   31     12  2019      0       0  United_States_of_America   \n",
      "\n",
      "      geoId countryterritoryCode  popData2019 continentExp  \n",
      "59346    US                  USA  329064917.0      America  \n",
      "59347    US                  USA  329064917.0      America  \n",
      "59348    US                  USA  329064917.0      America  \n",
      "59349    US                  USA  329064917.0      America  \n",
      "59350    US                  USA  329064917.0      America  \n"
     ]
    }
   ],
   "source": [
    "usa = df[df.loc[: , \"countriesAndTerritories\"].copy() ==  \\\n",
    "         \"United_States_of_America\"].copy()\n",
    "print(usa.tail())"
   ]
  },
  {
   "cell_type": "code",
   "execution_count": 11,
   "id": "7bf95097",
   "metadata": {},
   "outputs": [
    {
     "name": "stdout",
     "output_type": "stream",
     "text": [
      "dateRep                    datetime64[ns]\n",
      "day                                 int64\n",
      "month                               int64\n",
      "year                                int64\n",
      "cases                               int64\n",
      "deaths                              int64\n",
      "countriesAndTerritories            object\n",
      "geoId                              object\n",
      "countryterritoryCode               object\n",
      "popData2019                       float64\n",
      "continentExp                       object\n",
      "dtype: object\n"
     ]
    }
   ],
   "source": [
    "usa['dateRep'] = pd.to_datetime(usa['dateRep'])\n",
    "print(usa.dtypes)\n"
   ]
  },
  {
   "cell_type": "code",
   "execution_count": 12,
   "id": "b26b8bca",
   "metadata": {},
   "outputs": [
    {
     "name": "stdout",
     "output_type": "stream",
     "text": [
      "Index([59001, 59002, 59003, 59004, 59005, 59006, 59007, 59008, 59009, 59010,\n",
      "       ...\n",
      "       59341, 59342, 59343, 59344, 59345, 59346, 59347, 59348, 59349, 59350],\n",
      "      dtype='int64', length=350)\n",
      "            day  month  year   cases  deaths   countriesAndTerritories geoId  \\\n",
      "dateRep                                                                        \n",
      "2020-12-14   14     12  2020  189723    1340  United_States_of_America    US   \n",
      "2020-12-13   13     12  2020  216017    2315  United_States_of_America    US   \n",
      "2020-12-12   12     12  2020  234633    3343  United_States_of_America    US   \n",
      "2020-12-11   11     12  2020  224680    2748  United_States_of_America    US   \n",
      "2020-12-10   10     12  2020  220025    3124  United_States_of_America    US   \n",
      "...         ...    ...   ...     ...     ...                       ...   ...   \n",
      "2020-01-04    4      1  2020       0       0  United_States_of_America    US   \n",
      "2020-01-03    3      1  2020       0       0  United_States_of_America    US   \n",
      "2020-01-02    2      1  2020       0       0  United_States_of_America    US   \n",
      "2020-01-01    1      1  2020       0       0  United_States_of_America    US   \n",
      "2019-12-31   31     12  2019       0       0  United_States_of_America    US   \n",
      "\n",
      "           countryterritoryCode  popData2019 continentExp  \n",
      "dateRep                                                    \n",
      "2020-12-14                  USA  329064917.0      America  \n",
      "2020-12-13                  USA  329064917.0      America  \n",
      "2020-12-12                  USA  329064917.0      America  \n",
      "2020-12-11                  USA  329064917.0      America  \n",
      "2020-12-10                  USA  329064917.0      America  \n",
      "...                         ...          ...          ...  \n",
      "2020-01-04                  USA  329064917.0      America  \n",
      "2020-01-03                  USA  329064917.0      America  \n",
      "2020-01-02                  USA  329064917.0      America  \n",
      "2020-01-01                  USA  329064917.0      America  \n",
      "2019-12-31                  USA  329064917.0      America  \n",
      "\n",
      "[350 rows x 10 columns]\n"
     ]
    }
   ],
   "source": [
    "print(usa.index)\n",
    "usa.set_index('dateRep', inplace = True)\n",
    "print(usa)\n"
   ]
  },
  {
   "cell_type": "code",
   "execution_count": 13,
   "id": "e2ae4e1b",
   "metadata": {},
   "outputs": [
    {
     "name": "stdout",
     "output_type": "stream",
     "text": [
      "            day  month  year   cases  deaths   countriesAndTerritories geoId  \\\n",
      "dateRep                                                                        \n",
      "2020-12-13   13     12  2020  216017    2315  United_States_of_America    US   \n",
      "2020-12-12   12     12  2020  234633    3343  United_States_of_America    US   \n",
      "2020-12-11   11     12  2020  224680    2748  United_States_of_America    US   \n",
      "2020-12-10   10     12  2020  220025    3124  United_States_of_America    US   \n",
      "2020-12-09    9     12  2020  217344    2564  United_States_of_America    US   \n",
      "\n",
      "           countryterritoryCode  popData2019 continentExp  \n",
      "dateRep                                                    \n",
      "2020-12-13                  USA  329064917.0      America  \n",
      "2020-12-12                  USA  329064917.0      America  \n",
      "2020-12-11                  USA  329064917.0      America  \n",
      "2020-12-10                  USA  329064917.0      America  \n",
      "2020-12-09                  USA  329064917.0      America  \n"
     ]
    }
   ],
   "source": [
    "usa20 = usa.loc[\"01/02/2020\":\"12/13/2020\"]\n",
    "print(usa20.head())\n"
   ]
  },
  {
   "cell_type": "code",
   "execution_count": 14,
   "id": "05bac054",
   "metadata": {},
   "outputs": [
    {
     "name": "stdout",
     "output_type": "stream",
     "text": [
      "            day  month  year   cases  deaths   countriesAndTerritories geoId  \\\n",
      "dateRep                                                                        \n",
      "2020-12-13   13     12  2020  216017    2315  United_States_of_America    US   \n",
      "2020-12-12   12     12  2020  234633    3343  United_States_of_America    US   \n",
      "2020-12-11   11     12  2020  224680    2748  United_States_of_America    US   \n",
      "\n",
      "           countryterritoryCode  popData2019 continentExp  \n",
      "dateRep                                                    \n",
      "2020-12-13                  USA  329064917.0      America  \n",
      "2020-12-12                  USA  329064917.0      America  \n",
      "2020-12-11                  USA  329064917.0      America  \n"
     ]
    }
   ],
   "source": [
    "print(usa20.iloc[0:3, :])"
   ]
  },
  {
   "cell_type": "code",
   "execution_count": 15,
   "id": "051e0835",
   "metadata": {},
   "outputs": [
    {
     "name": "stdout",
     "output_type": "stream",
     "text": [
      "              day       month    year          cases       deaths  popData2019\n",
      "count  347.000000  347.000000   347.0     347.000000   347.000000        347.0\n",
      "mean    15.449568    6.244957  2020.0   46302.682997   858.319885  329064917.0\n",
      "std      8.811426    3.297476     0.0   51385.021579   764.271907          0.0\n",
      "min      1.000000    1.000000  2020.0       0.000000     0.000000  329064917.0\n",
      "25%      8.000000    3.000000  2020.0   17852.500000   250.000000  329064917.0\n",
      "50%     15.000000    6.000000  2020.0   33850.000000   829.000000  329064917.0\n",
      "75%     23.000000    9.000000  2020.0   56775.000000  1205.500000  329064917.0\n",
      "max     31.000000   12.000000  2020.0  234633.000000  4928.000000  329064917.0\n"
     ]
    }
   ],
   "source": [
    "print(usa20.describe())"
   ]
  },
  {
   "cell_type": "code",
   "execution_count": 16,
   "id": "748ef26b",
   "metadata": {},
   "outputs": [
    {
     "data": {
      "text/plain": [
       "<Axes: xlabel='dateRep'>"
      ]
     },
     "execution_count": 16,
     "metadata": {},
     "output_type": "execute_result"
    },
    {
     "data": {
      "image/png": "[encoded data removed]",
      "text/plain": [
       "<Figure size 640x480 with 1 Axes>"
      ]
     },
     "metadata": {},
     "output_type": "display_data"
    }
   ],
   "source": [
    "usa20[\"cases\"].plot()"
   ]
  }
 ],
 "metadata": {
  "kernelspec": {
   "display_name": "Python 3 (ipykernel)",
   "language": "python",
   "name": "python3"
  },
  "language_info": {
   "codemirror_mode": {
    "name": "ipython",
    "version": 3
   },
   "file_extension": ".py",
   "mimetype": "text/x-python",
   "name": "python",
   "nbconvert_exporter": "python",
   "pygments_lexer": "ipython3",
   "version": "3.11.5"
  }
 },
 "nbformat": 4,
 "nbformat_minor": 5
}
